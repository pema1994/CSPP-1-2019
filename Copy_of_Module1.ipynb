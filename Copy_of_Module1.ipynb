{
  "nbformat": 4,
  "nbformat_minor": 0,
  "metadata": {
    "colab": {
      "name": "Copy of Module1.ipynb",
      "version": "0.3.2",
      "provenance": [],
      "collapsed_sections": [],
      "include_colab_link": true
    },
    "kernelspec": {
      "name": "python3",
      "display_name": "Python 3"
    }
  },
  "cells": [
    {
      "cell_type": "markdown",
      "metadata": {
        "id": "view-in-github",
        "colab_type": "text"
      },
      "source": [
        "<a href=\"https://colab.research.google.com/github/pema1994/CSPP-1-2019/blob/master/Copy_of_Module1.ipynb\" target=\"_parent\"><img src=\"https://colab.research.google.com/assets/colab-badge.svg\" alt=\"Open In Colab\"/></a>"
      ]
    },
    {
      "metadata": {
        "id": "0YLZuu0WNJ5P",
        "colab_type": "text"
      },
      "cell_type": "markdown",
      "source": [
        "The parameter weekday is True if it is a weekday, and the parameter vacation is True if we are on vacation. We sleep in if it is not a weekday or we're on vacation. Return True if we sleep in.\n",
        "\n",
        "\n",
        "sleep_in(False, False) → True\n",
        "sleep_in(True, False) → False\n",
        "sleep_in(False, True) → True"
      ]
    },
    {
      "metadata": {
        "id": "giOzcIImNkkp",
        "colab_type": "code",
        "outputId": "3d1751b2-ab1b-4d77-aa42-f29153792c97",
        "colab": {
          "base_uri": "https://localhost:8080/",
          "height": 34
        }
      },
      "cell_type": "code",
      "source": [
        "def sleep_in(weekday, vacation):\n",
        "  if(vacation== True):\n",
        "      return True\n",
        "  if(weekday == False):\n",
        "    return True\n",
        "  return False\n",
        "assert sleep_in(False, False) == True\n",
        "assert sleep_in(True, False) == False\n",
        "assert sleep_in(False, True) == True\n",
        "print(\"All the testcases passed!!!\")"
      ],
      "execution_count": 0,
      "outputs": [
        {
          "output_type": "stream",
          "text": [
            "All the testcases passed!!!\n"
          ],
          "name": "stdout"
        }
      ]
    },
    {
      "metadata": {
        "id": "MSJjGpMoOL75",
        "colab_type": "text"
      },
      "cell_type": "markdown",
      "source": [
        "We have two monkeys, a and b, and the parameters a_smile and b_smile indicate if each is smiling. We are in trouble if they are both smiling or if neither of them is smiling. Return True if we are in trouble.\n",
        "\n",
        "\n",
        "monkey_trouble(True, True) → True\n",
        "monkey_trouble(False, False) → True\n",
        "monkey_trouble(True, False) → False"
      ]
    },
    {
      "metadata": {
        "id": "WCxOzKqZOUN1",
        "colab_type": "code",
        "outputId": "6f7fb25a-3f43-4d4a-eaf5-b607e57d2740",
        "colab": {
          "base_uri": "https://localhost:8080/",
          "height": 34
        }
      },
      "cell_type": "code",
      "source": [
        "def monkey_trouble(a_smile, b_smile):\n",
        "  if(a_smile and b_smile):\n",
        "    return True\n",
        "  if(not a_smile and not b_smile):\n",
        "    return True\n",
        "  return False\n",
        "  \n",
        "assert monkey_trouble(True, True) == True\t\t\n",
        "assert monkey_trouble(False, False) == True\t\t\n",
        "assert monkey_trouble(True, False) == False\t\n",
        "assert monkey_trouble(False, True) ==False\n",
        "print(\"All the testcases passed\")"
      ],
      "execution_count": 0,
      "outputs": [
        {
          "output_type": "stream",
          "text": [
            "All the testcases passed\n"
          ],
          "name": "stdout"
        }
      ]
    },
    {
      "metadata": {
        "id": "sjLUHoCuO9ej",
        "colab_type": "text"
      },
      "cell_type": "markdown",
      "source": [
        "Given two int values, return their sum. Unless the two values are the same, then return double their sum.\n",
        "\n",
        "\n",
        "sum_double(1, 2) → 3\n",
        "sum_double(3, 2) → 5\n",
        "sum_double(2, 2) → 8"
      ]
    },
    {
      "metadata": {
        "id": "_XvpSPspRPk5",
        "colab_type": "code",
        "outputId": "67dd8a48-8ee0-45b8-ab16-b41157ea3f5e",
        "colab": {
          "base_uri": "https://localhost:8080/",
          "height": 34
        }
      },
      "cell_type": "code",
      "source": [
        "def sum_double(a, b):\n",
        "  sum=a+b\n",
        "  dsum= 2*(a+b)\n",
        "  \n",
        "  if(a>b):\n",
        "    return sum\n",
        "  if(a<b):\n",
        "    return sum\n",
        "  if(a==b):\n",
        "    return dsum\n",
        "  return 0\n",
        "    \n",
        "  \n",
        "  \n",
        "  \n",
        "  \n",
        "  \n",
        "assert sum_double(1, 2) == 3\t\n",
        "assert sum_double(3, 2) == 5\t\t\n",
        "assert sum_double(2, 2) == 8\t\n",
        "assert sum_double(-1, 0) == -1\t\n",
        "assert sum_double(3, 3) == 12\t\n",
        "assert sum_double(0, 0) == 0\t\t\n",
        "assert sum_double(0, 1) == 1\t\t\n",
        "assert sum_double(3, 4) == 7\t\n",
        "print(\"All the testcases passed\")"
      ],
      "execution_count": 0,
      "outputs": [
        {
          "output_type": "stream",
          "text": [
            "All the testcases passed\n"
          ],
          "name": "stdout"
        }
      ]
    },
    {
      "metadata": {
        "id": "6kvOj3ZRSmYf",
        "colab_type": "text"
      },
      "cell_type": "markdown",
      "source": [
        "Given an int n, return the absolute difference between n and 21, except return double the absolute difference if n is over 21.\n",
        "\n",
        "\n",
        "diff21(19) → 2\n",
        "diff21(10) → 11\n",
        "diff21(21) → 0"
      ]
    },
    {
      "metadata": {
        "id": "Wfw2juJWStEB",
        "colab_type": "code",
        "outputId": "6a9c8ea4-8bb8-428e-e774-680d890764c7",
        "colab": {
          "base_uri": "https://localhost:8080/",
          "height": 34
        }
      },
      "cell_type": "code",
      "source": [
        "def diff21(n):\n",
        "  \n",
        "  if(n<21): \n",
        "    return 21-n\n",
        "  if(n>21):\n",
        "    return 2*(n-21)\n",
        "  return 0\n",
        "  \n",
        "assert diff21(19) == 2\t\n",
        "assert diff21(10) ==  11\t\t\n",
        "assert diff21(21) == 0\t\t\n",
        "assert diff21(22) == 2\t\t\n",
        "assert diff21(25) == 8\t\n",
        "assert diff21(30) == 18\t\t\n",
        "assert diff21(0) == 21\t\t\n",
        "assert diff21(1) == 20\t\t\n",
        "assert diff21(2) == 19\t\n",
        "assert diff21(-1) == 22\t\t\n",
        "assert diff21(-2) == 23\t\n",
        "assert diff21(50) == 58\t\n",
        "print(\"All the testcases passed\")"
      ],
      "execution_count": 0,
      "outputs": [
        {
          "output_type": "stream",
          "text": [
            "All the testcases passed\n"
          ],
          "name": "stdout"
        }
      ]
    },
    {
      "metadata": {
        "id": "Ca3KlRa7TcoX",
        "colab_type": "text"
      },
      "cell_type": "markdown",
      "source": [
        "We have a loud talking parrot. The \"hour\" parameter is the current hour time in the range 0..23. We are in trouble if the parrot is talking and the hour is before 7 or after 20. Return True if we are in trouble.\n",
        "\n",
        "\n",
        "parrot_trouble(True, 6) → True\n",
        "parrot_trouble(True, 7) → False\n",
        "parrot_trouble(False, 6) → False"
      ]
    },
    {
      "metadata": {
        "id": "26IIf16XTkYL",
        "colab_type": "code",
        "outputId": "7eabf334-145a-4474-cdec-d6f39a29bc5b",
        "colab": {
          "base_uri": "https://localhost:8080/",
          "height": 34
        }
      },
      "cell_type": "code",
      "source": [
        "def parrot_trouble(talking, hour):\n",
        " \n",
        "  if (talking and (hour<7 or hour>20)):\n",
        "    return True\n",
        "    \n",
        "  return False\n",
        "assert parrot_trouble(True, 6) == True\t\n",
        "assert parrot_trouble(True, 7) == False\t\t\n",
        "assert parrot_trouble(False, 6) == False\t\n",
        "assert parrot_trouble(True, 21) == True\n",
        "assert parrot_trouble(False, 21) == False\t\n",
        "assert parrot_trouble(False, 20) == False\n",
        "assert parrot_trouble(True, 23) == True\n",
        "assert parrot_trouble(False, 23) == False\n",
        "assert parrot_trouble(True, 20) == False\n",
        "assert parrot_trouble(False, 12) == False\n",
        "print(\"All the testcases passed\")"
      ],
      "execution_count": 0,
      "outputs": [
        {
          "output_type": "stream",
          "text": [
            "All the testcases passed\n"
          ],
          "name": "stdout"
        }
      ]
    },
    {
      "metadata": {
        "id": "vUbnzysgUW9S",
        "colab_type": "text"
      },
      "cell_type": "markdown",
      "source": [
        "Given 2 ints, a and b, return True if one if them is 10 or if their sum is 10.\n",
        "\n",
        "\n",
        "makes10(9, 10) → True\n",
        "makes10(9, 9) → False\n",
        "makes10(1, 9) → True"
      ]
    },
    {
      "metadata": {
        "id": "JYwedJEUUX8L",
        "colab_type": "code",
        "outputId": "71e49de3-5dac-4445-d7d5-1310e23446d7",
        "colab": {
          "base_uri": "https://localhost:8080/",
          "height": 34
        }
      },
      "cell_type": "code",
      "source": [
        "def makes10(a, b):\n",
        "  sum=a+b\n",
        "  if(a==10 or b==10):\n",
        "    return True\n",
        "  if(sum==10):\n",
        "    return True\n",
        "  return False\n",
        "    \n",
        "  \n",
        "assert makes10(9, 10) == True\n",
        "assert makes10(9, 9) == False\n",
        "assert makes10(1, 9) == True\n",
        "assert makes10(10, 1) == True\n",
        "assert makes10(10, 10) == True\n",
        "assert makes10(8, 2) == True\n",
        "assert makes10(8, 3) == False\n",
        "assert makes10(10, 42) == True\n",
        "assert makes10(12, -2) == True\n",
        "print(\"All the testcases passed\")"
      ],
      "execution_count": 0,
      "outputs": [
        {
          "output_type": "stream",
          "text": [
            "All the testcases passed\n"
          ],
          "name": "stdout"
        }
      ]
    },
    {
      "metadata": {
        "id": "PbLJDLquVUBb",
        "colab_type": "text"
      },
      "cell_type": "markdown",
      "source": [
        "Given an int n, return True if it is within 10 of 100 or 200. Note: abs(num) computes the absolute value of a number.\n",
        "\n",
        "\n",
        "near_hundred(93) → True\n",
        "near_hundred(90) → True\n",
        "near_hundred(89) → False"
      ]
    },
    {
      "metadata": {
        "id": "psRpqGSiVVPB",
        "colab_type": "code",
        "outputId": "b9e155d1-d95a-45e3-b466-baf52b8d886e",
        "colab": {
          "base_uri": "https://localhost:8080/",
          "height": 34
        }
      },
      "cell_type": "code",
      "source": [
        "def near_hundred(n):\n",
        " \n",
        "  if(n>=90 and n<=110):\n",
        "    return True\n",
        "  \n",
        "  if (n>=190 and n<=210):\n",
        "    return True\n",
        "  \n",
        "  return False\n",
        "  \n",
        "    \n",
        "\n",
        "\n",
        "assert near_hundred(89) == False\n",
        "assert near_hundred(110) == True\t\n",
        "assert near_hundred(111) == False\n",
        "assert near_hundred(121) == False\n",
        "near_hundred(-101) == False\n",
        "near_hundred(-209) == False\n",
        "near_hundred(190) == True\n",
        "print(\"All the testcases passed\")"
      ],
      "execution_count": 0,
      "outputs": [
        {
          "output_type": "stream",
          "text": [
            "All the testcases passed\n"
          ],
          "name": "stdout"
        }
      ]
    },
    {
      "metadata": {
        "id": "GG6OeyPfWgBi",
        "colab_type": "text"
      },
      "cell_type": "markdown",
      "source": [
        "Given 2 int values, return True if one is negative and one is positive. Except if the parameter \"negative\" is True, then return True only if both are negative.\n",
        "\n",
        "\n",
        "pos_neg(1, -1, False) → True\n",
        "pos_neg(-1, 1, False) → True\n",
        "pos_neg(-4, -5, True) → True"
      ]
    },
    {
      "metadata": {
        "id": "HQFebLGSWh3D",
        "colab_type": "code",
        "outputId": "d6e6e70d-f3a1-4857-9ed4-35ae40f33d77",
        "colab": {
          "base_uri": "https://localhost:8080/",
          "height": 34
        }
      },
      "cell_type": "code",
      "source": [
        "def pos_neg(a, b, negative):\n",
        "  \n",
        "  if((a<0 and b>0) and negative==False):\n",
        "    return True\n",
        "  \n",
        "  if((a>0 and b<0) and negative==False):\n",
        "    return True\n",
        "  \n",
        "  if((a<0 and  b<0) and negative==True):\n",
        "    return True\n",
        "  \n",
        "  return False\n",
        "  \n",
        "assert pos_neg(1, -1, True) == False\t\n",
        "assert pos_neg(-1, 1, True) == False\t\n",
        "assert pos_neg(1, 1, True) == False\n",
        "assert pos_neg(-1, -1, True) == True\t\n",
        "assert pos_neg(5, -5, False) == True\t\n",
        "assert pos_neg(-6, 6, False) == True\n",
        "print(\"All the testcases passed\")"
      ],
      "execution_count": 0,
      "outputs": [
        {
          "output_type": "stream",
          "text": [
            "All the testcases passed\n"
          ],
          "name": "stdout"
        }
      ]
    }
  ]
}